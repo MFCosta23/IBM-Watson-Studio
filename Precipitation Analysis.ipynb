{
    "cells": [
        {
            "cell_type": "markdown",
            "metadata": {},
            "source": "# Description\nUSDA"
        },
        {
            "cell_type": "code",
            "execution_count": 1,
            "metadata": {},
            "outputs": [
                {
                    "data": {
                        "text/html": "<div>\n<style scoped>\n    .dataframe tbody tr th:only-of-type {\n        vertical-align: middle;\n    }\n\n    .dataframe tbody tr th {\n        vertical-align: top;\n    }\n\n    .dataframe thead th {\n        text-align: right;\n    }\n</style>\n<table border=\"1\" class=\"dataframe\">\n  <thead>\n    <tr style=\"text-align: right;\">\n      <th></th>\n      <th>ID</th>\n      <th>Description</th>\n      <th>Calories</th>\n      <th>Protein</th>\n      <th>TotalFat</th>\n      <th>Carbohydrate</th>\n      <th>Sodium</th>\n      <th>SaturatedFat</th>\n      <th>Cholesterol</th>\n      <th>Sugar</th>\n      <th>Calcium</th>\n      <th>Iron</th>\n      <th>Potassium</th>\n      <th>VitaminC</th>\n      <th>VitaminE</th>\n      <th>VitaminD</th>\n    </tr>\n  </thead>\n  <tbody>\n    <tr>\n      <th>0</th>\n      <td>1001</td>\n      <td>BUTTER,WITH SALT</td>\n      <td>717.0</td>\n      <td>0.85</td>\n      <td>81.11</td>\n      <td>0.06</td>\n      <td>714.0</td>\n      <td>51.368</td>\n      <td>215.0</td>\n      <td>0.06</td>\n      <td>24.0</td>\n      <td>0.02</td>\n      <td>24.0</td>\n      <td>0.0</td>\n      <td>2.32</td>\n      <td>1.5</td>\n    </tr>\n    <tr>\n      <th>1</th>\n      <td>1002</td>\n      <td>BUTTER,WHIPPED,WITH SALT</td>\n      <td>717.0</td>\n      <td>0.85</td>\n      <td>81.11</td>\n      <td>0.06</td>\n      <td>827.0</td>\n      <td>50.489</td>\n      <td>219.0</td>\n      <td>0.06</td>\n      <td>24.0</td>\n      <td>0.16</td>\n      <td>26.0</td>\n      <td>0.0</td>\n      <td>2.32</td>\n      <td>1.5</td>\n    </tr>\n    <tr>\n      <th>2</th>\n      <td>1003</td>\n      <td>BUTTER OIL,ANHYDROUS</td>\n      <td>876.0</td>\n      <td>0.28</td>\n      <td>99.48</td>\n      <td>0.00</td>\n      <td>2.0</td>\n      <td>61.924</td>\n      <td>256.0</td>\n      <td>0.00</td>\n      <td>4.0</td>\n      <td>0.00</td>\n      <td>5.0</td>\n      <td>0.0</td>\n      <td>2.80</td>\n      <td>1.8</td>\n    </tr>\n    <tr>\n      <th>3</th>\n      <td>1004</td>\n      <td>CHEESE,BLUE</td>\n      <td>353.0</td>\n      <td>21.40</td>\n      <td>28.74</td>\n      <td>2.34</td>\n      <td>1395.0</td>\n      <td>18.669</td>\n      <td>75.0</td>\n      <td>0.50</td>\n      <td>528.0</td>\n      <td>0.31</td>\n      <td>256.0</td>\n      <td>0.0</td>\n      <td>0.25</td>\n      <td>0.5</td>\n    </tr>\n    <tr>\n      <th>4</th>\n      <td>1005</td>\n      <td>CHEESE,BRICK</td>\n      <td>371.0</td>\n      <td>23.24</td>\n      <td>29.68</td>\n      <td>2.79</td>\n      <td>560.0</td>\n      <td>18.764</td>\n      <td>94.0</td>\n      <td>0.51</td>\n      <td>674.0</td>\n      <td>0.43</td>\n      <td>136.0</td>\n      <td>0.0</td>\n      <td>0.26</td>\n      <td>0.5</td>\n    </tr>\n  </tbody>\n</table>\n</div>",
                        "text/plain": "     ID               Description  Calories  Protein  TotalFat  Carbohydrate  \\\n0  1001          BUTTER,WITH SALT     717.0     0.85     81.11          0.06   \n1  1002  BUTTER,WHIPPED,WITH SALT     717.0     0.85     81.11          0.06   \n2  1003      BUTTER OIL,ANHYDROUS     876.0     0.28     99.48          0.00   \n3  1004               CHEESE,BLUE     353.0    21.40     28.74          2.34   \n4  1005              CHEESE,BRICK     371.0    23.24     29.68          2.79   \n\n   Sodium  SaturatedFat  Cholesterol  Sugar  Calcium  Iron  Potassium  \\\n0   714.0        51.368        215.0   0.06     24.0  0.02       24.0   \n1   827.0        50.489        219.0   0.06     24.0  0.16       26.0   \n2     2.0        61.924        256.0   0.00      4.0  0.00        5.0   \n3  1395.0        18.669         75.0   0.50    528.0  0.31      256.0   \n4   560.0        18.764         94.0   0.51    674.0  0.43      136.0   \n\n   VitaminC  VitaminE  VitaminD  \n0       0.0      2.32       1.5  \n1       0.0      2.32       1.5  \n2       0.0      2.80       1.8  \n3       0.0      0.25       0.5  \n4       0.0      0.26       0.5  "
                    },
                    "execution_count": 1,
                    "metadata": {},
                    "output_type": "execute_result"
                }
            ],
            "source": "# The code was removed by Watson Studio for sharing."
        },
        {
            "cell_type": "code",
            "execution_count": null,
            "metadata": {},
            "outputs": [],
            "source": ""
        }
    ],
    "metadata": {
        "kernelspec": {
            "display_name": "Python 3.9",
            "language": "python",
            "name": "python3"
        },
        "language_info": {
            "codemirror_mode": {
                "name": "ipython",
                "version": 3
            },
            "file_extension": ".py",
            "mimetype": "text/x-python",
            "name": "python",
            "nbconvert_exporter": "python",
            "pygments_lexer": "ipython3",
            "version": "3.9.7"
        }
    },
    "nbformat": 4,
    "nbformat_minor": 1
}